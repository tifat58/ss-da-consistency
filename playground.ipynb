{
 "cells": [
  {
   "cell_type": "code",
   "execution_count": 1,
   "id": "6e56b37c",
   "metadata": {},
   "outputs": [],
   "source": [
    "import pandas as pd\n",
    "import torch.utils.data as data\n",
    "import os\n",
    "from sklearn.model_selection import train_test_split\n",
    "import torch"
   ]
  },
  {
   "cell_type": "code",
   "execution_count": 54,
   "id": "0f8f8e8e",
   "metadata": {},
   "outputs": [],
   "source": [
    "# class FGDRDataset(data.Dataset):\n",
    "    \n",
    "#     def __init__(self):\n",
    "        "
   ]
  },
  {
   "cell_type": "code",
   "execution_count": 17,
   "id": "f4999a3f",
   "metadata": {},
   "outputs": [],
   "source": [
    "fgadr_root_path = '/mnt/sda/haal02-data/FGADR-Seg-Set/Seg-set'\n",
    "fgadr_csv_file_name = 'DR_Seg_Grading_Label.csv'\n",
    "fgadr_image_path = '/mnt/sda/haal02-data/FGADR-Seg-Set/Seg-set/Original_Images'\n",
    "\n",
    "data_file = pd.read_csv(os.path.join(fgadr_root_path, fgadr_csv_file_name), header=None, names=['image', 'level'])\n",
    "\n",
    "name_list = []\n",
    "label_list = []\n",
    "\n",
    "\n",
    "\n",
    "for idx, row in data_file.iterrows():\n",
    "    if os.path.isfile(os.path.join(fgadr_image_path, row[0])):\n",
    "        name_list.append(os.path.join(fgadr_image_path, row[0]))\n",
    "        label_list.append(row[1])\n",
    "#         print(row[1])\n",
    "    else:\n",
    "        print(0)\n",
    "# print(label_list)"
   ]
  },
  {
   "cell_type": "code",
   "execution_count": null,
   "id": "c2f230f2",
   "metadata": {},
   "outputs": [],
   "source": []
  },
  {
   "cell_type": "code",
   "execution_count": 3,
   "id": "74b5d966",
   "metadata": {},
   "outputs": [],
   "source": [
    "int(0.85 * len(data_file))\n",
    "# data_file.sort_values(by='level', ascending=True).level.value_counts()\n",
    "fgdr_wt = data_file.level.value_counts().sort_index()"
   ]
  },
  {
   "cell_type": "code",
   "execution_count": 6,
   "id": "c9174f22",
   "metadata": {},
   "outputs": [
    {
     "data": {
      "text/plain": [
       "0    101\n",
       "1    212\n",
       "2    595\n",
       "3    647\n",
       "4    287\n",
       "Name: level, dtype: int64"
      ]
     },
     "execution_count": 6,
     "metadata": {},
     "output_type": "execute_result"
    }
   ],
   "source": [
    "fgdr_wt"
   ]
  },
  {
   "cell_type": "code",
   "execution_count": 19,
   "id": "efb68402",
   "metadata": {},
   "outputs": [
    {
     "data": {
      "text/html": [
       "<div>\n",
       "<style scoped>\n",
       "    .dataframe tbody tr th:only-of-type {\n",
       "        vertical-align: middle;\n",
       "    }\n",
       "\n",
       "    .dataframe tbody tr th {\n",
       "        vertical-align: top;\n",
       "    }\n",
       "\n",
       "    .dataframe thead th {\n",
       "        text-align: right;\n",
       "    }\n",
       "</style>\n",
       "<table border=\"1\" class=\"dataframe\">\n",
       "  <thead>\n",
       "    <tr style=\"text-align: right;\">\n",
       "      <th></th>\n",
       "      <th>image</th>\n",
       "      <th>level</th>\n",
       "    </tr>\n",
       "  </thead>\n",
       "  <tbody>\n",
       "    <tr>\n",
       "      <th>0</th>\n",
       "      <td>10_left</td>\n",
       "      <td>0</td>\n",
       "    </tr>\n",
       "    <tr>\n",
       "      <th>1</th>\n",
       "      <td>10_right</td>\n",
       "      <td>0</td>\n",
       "    </tr>\n",
       "    <tr>\n",
       "      <th>2</th>\n",
       "      <td>13_left</td>\n",
       "      <td>0</td>\n",
       "    </tr>\n",
       "    <tr>\n",
       "      <th>3</th>\n",
       "      <td>13_right</td>\n",
       "      <td>0</td>\n",
       "    </tr>\n",
       "    <tr>\n",
       "      <th>4</th>\n",
       "      <td>15_left</td>\n",
       "      <td>1</td>\n",
       "    </tr>\n",
       "  </tbody>\n",
       "</table>\n",
       "</div>"
      ],
      "text/plain": [
       "      image  level\n",
       "0   10_left      0\n",
       "1  10_right      0\n",
       "2   13_left      0\n",
       "3  13_right      0\n",
       "4   15_left      1"
      ]
     },
     "execution_count": 19,
     "metadata": {},
     "output_type": "execute_result"
    }
   ],
   "source": [
    "kaggle_data_path = '/mnt/sda/haal02-data/Kaggle-Retinopathy-Datasets/dr-data/trainLabels.csv'\n",
    "kaggle_image_path = '/mnt/sda/haal02-data/Kaggle-Retinopathy-Datasets/dr-data/train/'\n",
    "kaggle_df = pd.read_csv(kaggle_data_path, header=0)\n",
    "kaggle_df.head()"
   ]
  },
  {
   "cell_type": "code",
   "execution_count": 20,
   "id": "adff913d",
   "metadata": {},
   "outputs": [],
   "source": [
    "name_list = []\n",
    "label_list = []\n",
    "image_list = []\n",
    "max_size = 6000\n",
    "label_0_count = 0\n",
    "for idx, row in kaggle_df.iterrows():\n",
    "    file_name = row[0] + '.jpeg'\n",
    "    if os.path.isfile(os.path.join(kaggle_image_path, file_name)):\n",
    "        if row[1] == 0:\n",
    "            if label_0_count < max_size:\n",
    "                \n",
    "                name_list.append(os.path.join(kaggle_image_path, file_name))\n",
    "                label_list.append(row[1])\n",
    "                image_list.append(row[0])\n",
    "                label_0_count += 1\n",
    "        else:\n",
    "            name_list.append(os.path.join(kaggle_image_path, file_name))\n",
    "            label_list.append(row[1])\n",
    "            image_list.append(row[0])\n",
    "#         print(row[1])\n",
    "    else:\n",
    "        print('Error')\n",
    "# print(label_list)"
   ]
  },
  {
   "cell_type": "code",
   "execution_count": 21,
   "id": "234fa156",
   "metadata": {},
   "outputs": [
    {
     "data": {
      "text/plain": [
       "0    25810\n",
       "1     2443\n",
       "2     5292\n",
       "3      873\n",
       "4      708\n",
       "Name: level, dtype: int64"
      ]
     },
     "execution_count": 21,
     "metadata": {},
     "output_type": "execute_result"
    }
   ],
   "source": [
    "kaggle_df.level.value_counts().sort_index()\n",
    "# kaggle_df.level.value_counts().sort_values(axis=0, ascending=False)\n"
   ]
  },
  {
   "cell_type": "code",
   "execution_count": 22,
   "id": "1547de03",
   "metadata": {},
   "outputs": [
    {
     "data": {
      "text/plain": [
       "0    6000\n",
       "1    2443\n",
       "2    5292\n",
       "3     873\n",
       "4     708\n",
       "Name: level, dtype: int64"
      ]
     },
     "execution_count": 22,
     "metadata": {},
     "output_type": "execute_result"
    }
   ],
   "source": [
    "data = { 'image' : image_list,\n",
    "           'level' : label_list}\n",
    "\n",
    "csv_df = pd.DataFrame(data)\n",
    "class_count = csv_df.level.value_counts().sort_index()\n",
    "class_count"
   ]
  },
  {
   "cell_type": "code",
   "execution_count": 23,
   "id": "f51ad89f",
   "metadata": {},
   "outputs": [],
   "source": [
    "weight_tensor = torch.zeros(1,5)\n",
    "for idx, value in class_count.items():\n",
    "    wt = value / len(csv_df)\n",
    "#     print(len(data_file))\n",
    "    weight_tensor[0][idx] = round((1 - wt), 2)"
   ]
  },
  {
   "cell_type": "code",
   "execution_count": 24,
   "id": "83aab882",
   "metadata": {},
   "outputs": [
    {
     "data": {
      "text/plain": [
       "array([[0.15288221, 0.21052631, 0.16290726, 0.23558897, 0.23809524]])"
      ]
     },
     "execution_count": 24,
     "metadata": {},
     "output_type": "execute_result"
    }
   ],
   "source": [
    "from sklearn.preprocessing import normalize\n",
    "normalize(weight_tensor, norm='l1')"
   ]
  },
  {
   "cell_type": "code",
   "execution_count": 21,
   "id": "a1b4b405",
   "metadata": {},
   "outputs": [
    {
     "name": "stdout",
     "output_type": "stream",
     "text": [
      "10721\n",
      "13018\n"
     ]
    }
   ],
   "source": [
    "print(int(0.7 * len(csv_df)))\n",
    "print(int(0.85 * len(csv_df)))"
   ]
  },
  {
   "cell_type": "code",
   "execution_count": 8,
   "id": "a6007f2a",
   "metadata": {},
   "outputs": [],
   "source": [
    "X_train, X_test, y_train, y_test = train_test_split(name_list, label_list, test_size = 0.3)"
   ]
  },
  {
   "cell_type": "code",
   "execution_count": 24,
   "id": "71e35d66",
   "metadata": {},
   "outputs": [],
   "source": [
    "# csv_df.to_csv('/mnt/sda/haal02-data/Kaggle-Retinopathy-Datasets/dr-data/truncated_trainLabels.csv', index=False)"
   ]
  },
  {
   "cell_type": "code",
   "execution_count": 25,
   "id": "4e6a6c32",
   "metadata": {},
   "outputs": [
    {
     "data": {
      "text/html": [
       "<div>\n",
       "<style scoped>\n",
       "    .dataframe tbody tr th:only-of-type {\n",
       "        vertical-align: middle;\n",
       "    }\n",
       "\n",
       "    .dataframe tbody tr th {\n",
       "        vertical-align: top;\n",
       "    }\n",
       "\n",
       "    .dataframe thead th {\n",
       "        text-align: right;\n",
       "    }\n",
       "</style>\n",
       "<table border=\"1\" class=\"dataframe\">\n",
       "  <thead>\n",
       "    <tr style=\"text-align: right;\">\n",
       "      <th></th>\n",
       "      <th>image</th>\n",
       "      <th>level</th>\n",
       "    </tr>\n",
       "  </thead>\n",
       "  <tbody>\n",
       "    <tr>\n",
       "      <th>0</th>\n",
       "      <td>10_left</td>\n",
       "      <td>0</td>\n",
       "    </tr>\n",
       "    <tr>\n",
       "      <th>1</th>\n",
       "      <td>10_right</td>\n",
       "      <td>0</td>\n",
       "    </tr>\n",
       "    <tr>\n",
       "      <th>2</th>\n",
       "      <td>13_left</td>\n",
       "      <td>0</td>\n",
       "    </tr>\n",
       "    <tr>\n",
       "      <th>3</th>\n",
       "      <td>13_right</td>\n",
       "      <td>0</td>\n",
       "    </tr>\n",
       "    <tr>\n",
       "      <th>4</th>\n",
       "      <td>15_left</td>\n",
       "      <td>1</td>\n",
       "    </tr>\n",
       "    <tr>\n",
       "      <th>...</th>\n",
       "      <td>...</td>\n",
       "      <td>...</td>\n",
       "    </tr>\n",
       "    <tr>\n",
       "      <th>15311</th>\n",
       "      <td>44323_left</td>\n",
       "      <td>1</td>\n",
       "    </tr>\n",
       "    <tr>\n",
       "      <th>15312</th>\n",
       "      <td>44323_right</td>\n",
       "      <td>1</td>\n",
       "    </tr>\n",
       "    <tr>\n",
       "      <th>15313</th>\n",
       "      <td>44328_right</td>\n",
       "      <td>1</td>\n",
       "    </tr>\n",
       "    <tr>\n",
       "      <th>15314</th>\n",
       "      <td>44337_left</td>\n",
       "      <td>1</td>\n",
       "    </tr>\n",
       "    <tr>\n",
       "      <th>15315</th>\n",
       "      <td>44349_right</td>\n",
       "      <td>1</td>\n",
       "    </tr>\n",
       "  </tbody>\n",
       "</table>\n",
       "<p>15316 rows × 2 columns</p>\n",
       "</div>"
      ],
      "text/plain": [
       "             image  level\n",
       "0          10_left      0\n",
       "1         10_right      0\n",
       "2          13_left      0\n",
       "3         13_right      0\n",
       "4          15_left      1\n",
       "...            ...    ...\n",
       "15311   44323_left      1\n",
       "15312  44323_right      1\n",
       "15313  44328_right      1\n",
       "15314   44337_left      1\n",
       "15315  44349_right      1\n",
       "\n",
       "[15316 rows x 2 columns]"
      ]
     },
     "execution_count": 25,
     "metadata": {},
     "output_type": "execute_result"
    }
   ],
   "source": [
    "csv_df"
   ]
  }
 ],
 "metadata": {
  "kernelspec": {
   "display_name": "Python 3",
   "language": "python",
   "name": "python3"
  },
  "language_info": {
   "codemirror_mode": {
    "name": "ipython",
    "version": 3
   },
   "file_extension": ".py",
   "mimetype": "text/x-python",
   "name": "python",
   "nbconvert_exporter": "python",
   "pygments_lexer": "ipython3",
   "version": "3.6.9"
  }
 },
 "nbformat": 4,
 "nbformat_minor": 5
}
